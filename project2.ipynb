{
 "cells": [
  {
   "cell_type": "markdown",
   "metadata": {},
   "source": [
    "# Project 2\n",
    "\n",
    "Linear, second order differential equations arise frequently in science and engineering (even in pure mathematics, they have a somewhat privleged position). This project *introduces* an application of second order equations. \n",
    "\n",
    "## A simple Spring--Mass System \n",
    "Consider a weight of mass $m$ kilograms hanging on a spring (the spring is attached to the ceiling). The original length of the spring is $\\ell$ meters and its elongated length (where the elongation is due to the weight) is $\\ell + L$ meters. The spring is pulled downward and released. Our goal is to find an ODE that models this situation. \n",
    "\n",
    "Our starting point will be Newton's second law: $F = ma$. We will pick a coordinate system where the *downward* direction is the positive direction. Also, the \"zero\" of the system is the spring's length with the mass attached (in particular, $\\ell + L$ units down from the ceiling). \n",
    "\n",
    "There are two forces acting on the spring, what are they. Give your answer below. (You answer *must* be in complete sentences as in \"The forces on the spring are X and Y\")."
   ]
  },
  {
   "cell_type": "markdown",
   "metadata": {},
   "source": [
    "𝐹𝑠 (the force due to the spring that acts upwards) and 𝐹𝑔 (force of gravity) are the forces acting on the spring."
   ]
  },
  {
   "cell_type": "markdown",
   "metadata": {},
   "source": [
    "Let's (suggestively) call these forces $F_s$ and $F_g$. The force $F_s$ is given by Hooke's Law. In the \n",
    "cell below, write Hooke's law (again, using complete sentences such as \"Hooke's law says that $F_s$ is ...\" or something similar. Be clear about what the variables you are using mean). "
   ]
  },
  {
   "cell_type": "markdown",
   "metadata": {},
   "source": [
    "Hooke's law concludes that the force that acts upon a spring 𝐹𝑠 states that if the elongation (L) of the spring is small, the spring force (k) is very nearly proportional to L. This is known as Hooke’s Law --> Fs = −kL , where the constant of proportionality k is called the spring constant, and the minus sign is due to the fact that the spring force acts in the upward (negative) direction. Since the mass is in equilibrium, the two forces balance each other, which means that --> w + Fs = mg − kL = 0. w is weight (w = mg). It is clear that this formula is proportional on both sides."
   ]
  },
  {
   "cell_type": "markdown",
   "metadata": {},
   "source": [
    "If $u(t)$ represents the position of the mass at time $t$, then give a formula for $F_s$. Be careful with the coordinate system, where the zero is, and the precise definition of $L$. (As above, use complete sentences!)"
   ]
  },
  {
   "cell_type": "markdown",
   "metadata": {},
   "source": [
    "𝐹𝑠 = −k(L + u) - this is the equation for the spring force when when the spring is extended past/away from its natural position (0). You know this is the case when L + u > 0, and the spring force is directed upward. \n",
    "\n",
    "𝐹𝑠 = k|L + u| - this is the equation for the spring force when the spring is compressed a certain distance from the natural position (0). However,when L + u < 0, you can conclude that |L+u| = −(L+u) since the absolute value would be actively flipping the inside operation to positive, so 𝐹𝑠 = −k(L + u) regardless. It does not matter where the  position of the mass, the force exerted by the spring is always expressed with 𝐹𝑠 = −k(L + u)."
   ]
  },
  {
   "cell_type": "markdown",
   "metadata": {},
   "source": [
    "The force $F_g$ is given by Newton's second law. In the cell below, write a formula for this force (again, using complete sentences such as \"Hooke's law says that  𝐹𝑠  is ...\" or something similar. Be clear about what the variables you are using mean)."
   ]
  },
  {
   "cell_type": "markdown",
   "metadata": {},
   "source": [
    "Newton's second law states that the acceleration of an object is dependent upon two variables - the net force acting upon the object and the mass of the object. 𝐹𝑔 = ma\n",
    "\n",
    "m = mass (kg)\n",
    "a = acceleration (m/s^2)"
   ]
  },
  {
   "cell_type": "markdown",
   "metadata": {},
   "source": [
    "Thus, you have an expression of the form $F = F_g + F_s$ and $F_g$ and $F_s$ have the formulas you have found above. According to Newton's Second Law, $F = ma$, using this and your expressions for $F_s$ and $F_g$, write an ODE that descibes the motion of the mass. (Again, use complete sentencse). "
   ]
  },
  {
   "cell_type": "markdown",
   "metadata": {},
   "source": [
    "The sum of the forces is F = ma. The sum of the forces is also equal to F = 𝐹𝑔 + 𝐹𝑠. 𝐹𝑔 pulls down on the spring and 𝐹𝑠 pulls up on the spring. If you set these two equations equal to each other, you get the expression below.\n",
    "\n",
    "- as defined in the Hooke's Law equation, 𝐹𝑠 is replaced by -kL, the elongation formula and 𝐹𝑔 is replaced by mg (mass times gravity)\n",
    "\n",
    "the sum of the forces F = $\\sum$ F = 𝐹𝑔 + 𝐹𝑠 = 0\n",
    "\n",
    "--> 𝐹𝑔 = -𝐹𝑠\n",
    "\n",
    "--> mg = -(-kL)\n",
    "\n",
    "--> mg = kL\n",
    "\n",
    "--> mu''(t) = −k(L + u(t)) + mg\n",
    "\n",
    "--> mu''(t) = −k(L + u(t)) + (kL)  > substututed kL for mg as found above\n",
    "\n",
    "--> mu''(t) + ku(t) = 0  > -kL and +kL cancel and now you have your ODE"
   ]
  },
  {
   "cell_type": "markdown",
   "metadata": {},
   "source": [
    "Assuming that $m = 2$ kg, $\\ell = 1$ meter, and $L = .1$ meter, and $g = 10$ meters per second squared, replace all letters (other than $u(t)$) with numbers. In other words, if, for example, there is a parameter $k$ in your expression for $F_s$, replace this with a number that you compute from the given data. Write that ODE below (again - complete sentences). "
   ]
  },
  {
   "cell_type": "markdown",
   "metadata": {},
   "source": [
    "mu''(t) + ku(t) = 0  > ODE\n",
    "\n",
    "mg = kL  > found above to be true, use to solve for k\n",
    "\n",
    "(2)(10) = k(0.1)\n",
    "20 = 0.1k\n",
    "\n",
    "k = 20/0.1\n",
    "k = 200\n",
    "\n",
    "- Now that I have found k given the values above, I now plug in the k value into the equation I found for the ODE from the last question.\n",
    "\n",
    "--> (2)u''(t) + (200)u(t) = 0 \n",
    "\n",
    "--> 2u''(t) + 200u(t) = 0  > now the ODE has coefficients, found by solving for k and plugging in for m"
   ]
  },
  {
   "cell_type": "markdown",
   "metadata": {},
   "source": [
    "In the cell below, use ```dsolve``` to find a solution to this ODE. "
   ]
  },
  {
   "cell_type": "code",
   "execution_count": 77,
   "metadata": {},
   "outputs": [
    {
     "name": "stdout",
     "output_type": "stream",
     "text": [
      "u(t) = C₁⋅sin(10⋅t) + C₂⋅cos(10⋅t)\n"
     ]
    }
   ],
   "source": [
    "import numpy as np\n",
    "import matplotlib.pyplot as plt\n",
    "from sympy import *\n",
    "\n",
    "# 2u''(t) + 200u(t) = 0\n",
    "\n",
    "# 2(u''(t) + 100u(t)) = 0\n",
    "\n",
    "# u''(t) + 100u(t) = 0\n",
    "\n",
    "t = symbols('t')\n",
    "u = Function('u')\n",
    "\n",
    "deq = Eq(2*diff(u(t), t, t) + 200*u(t))\n",
    "xsoln = dsolve(deq, u(t))\n",
    "pprint(xsoln)\n"
   ]
  },
  {
   "cell_type": "markdown",
   "metadata": {},
   "source": [
    "Assume that the starting position of the spring is $\\ell + L$ (that is, $1.1$ meters) down from the cieling (this is just the \"zero\" of the coordniate position) and it is tapped so that is starts with an upward speed of $.01$ meters per second. Write and IVP that describes this motion (this is just your ODE above combined with an initial condition). *Be mindful of what the initial __veolcity__ is!!* (again - complete sentences). "
   ]
  },
  {
   "cell_type": "markdown",
   "metadata": {},
   "source": [
    "The ODE is combined with an initial condition here to find the IVP that describes this motion. \n",
    "\n",
    "> u(0) = 0 (initial position)\n",
    "> u'(0) = 0.01 (initial velocity)\n",
    "\n",
    "--> 2u''(t) = 20 - 200(u(t) + 0.1)\n",
    "\n",
    "--> 2u''(t) + 200u(t) = 0 "
   ]
  },
  {
   "cell_type": "markdown",
   "metadata": {},
   "source": [
    "Use ```dsolve``` to find a solution to this IVP. "
   ]
  },
  {
   "cell_type": "code",
   "execution_count": 78,
   "metadata": {},
   "outputs": [
    {
     "name": "stdout",
     "output_type": "stream",
     "text": [
      "u(t) = 0.001⋅sin(10⋅t)\n"
     ]
    }
   ],
   "source": [
    "import numpy as np\n",
    "import matplotlib.pyplot as plt\n",
    "from sympy import *\n",
    "\n",
    "t = symbols('t')\n",
    "u = Function('u')\n",
    "\n",
    "deq = Eq(2*diff(u(t), t, t) + 200*u(t))\n",
    "xsoln = dsolve(deq, u(t), ics={u(0): 0, diff(u(t), t).subs(t, 0): 0.01})\n",
    "pprint(xsoln)"
   ]
  },
  {
   "cell_type": "markdown",
   "metadata": {},
   "source": [
    "## Adding Damping \n",
    "A [*dashpot*](https://en.wikipedia.org/wiki/Dashpot) is a type of damping force. It always acts in a way that opposes movement. This means its sign is always opposite of velocity. It is also proportional to the speed. Assume this constant of proportionality is $1$. Modify your IVP above to include a damping force. (Complete sentences!!)"
   ]
  },
  {
   "cell_type": "markdown",
   "metadata": {},
   "source": [
    "--> Fd(t) = -γu′(t)  # Damping force\n",
    "--> Fs(t) = −k(L + u(t))  # Spring force\n",
    "--> L = 0.1  # Elongation\n",
    "--> γ = 1   # constant of proportionality\n",
    "These are the initial conditions:\n",
    "u(0) = 1.1\n",
    "u'(0) = 0.01\n",
    "\n",
    "Here is where I reduced/plugged into the unsimplified ODE to come out wiht a nonhomogenous ODE at the end = 0\n",
    "mu′′(t) = kL + Fs(t) + Fd(t)\n",
    "\n",
    "2u''(t) = 20 - 200(u(t) + 0.1) - u'(t) \n",
    "\n",
    "mu''(t) = -k(L + u(t)) + mg - u'(t)\n",
    "\n",
    "mu''(t) = -k(L + u(t)) + (kL) - u'(t)  # kL replaces mg as solved previously\n",
    "\n",
    "mu''(t) + ku(t) + u'(t) = 0  # kL and -kL cancel\n",
    "\n",
    "2u''(t) + u'(t) + 200u(t) = 0  # put damping ODE in second order form\n",
    "\n",
    "\n"
   ]
  },
  {
   "cell_type": "markdown",
   "metadata": {},
   "source": [
    "In the cell below, use ```dsolve``` to find the solution to this IVP. "
   ]
  },
  {
   "cell_type": "code",
   "execution_count": 79,
   "metadata": {},
   "outputs": [
    {
     "name": "stdout",
     "output_type": "stream",
     "text": [
      "                              ⎛√1599⋅t⎞\n",
      "       0.00100031264656071⋅sin⎜───────⎟\n",
      "                              ⎝   4   ⎠\n",
      "u(t) = ────────────────────────────────\n",
      "                      ____             \n",
      "                   4 ╱  t              \n",
      "                   ╲╱  ℯ               \n"
     ]
    }
   ],
   "source": [
    "import numpy as np\n",
    "import matplotlib.pyplot as plt\n",
    "from sympy import *\n",
    "\n",
    "t = symbols('t')\n",
    "u = Function('u')\n",
    "\n",
    "deq = Eq(2*diff(u(t), t, t) + diff(u(t), t) + 200*u(t))\n",
    "xsoln = dsolve(deq, u(t), ics={u(0): 0, diff(u(t), t).subs(t, 0): 0.01})\n",
    "pprint(xsoln)"
   ]
  },
  {
   "cell_type": "markdown",
   "metadata": {},
   "source": [
    "## Adding an External Force\n",
    "\n",
    "Now, assume that an external force is applied. That is, a force $F(t)$ (such as a magnetic force, or hitting it with a hammer, etc) is applied. Add this force to the IVP above. Write the differential equation in the standard form the non-homogeneous equations are written in. Again - complete sentences!"
   ]
  },
  {
   "cell_type": "markdown",
   "metadata": {},
   "source": [
    "2u''(t) = 20 - + u'(t) + 200u(t) = 𝐹(𝑡)\n",
    "\n",
    "\n",
    "These are the initial conditions:\n",
    "u(0) = 1.1\n",
    "u'(0) = 0.01\n",
    "\n",
    "2u''(t) + u'(t) + 200u(t) = 𝐹(𝑡)  > This is the ODE with te initial conditions\n",
    "\n",
    "2u''(t) + u'(t) + 200u(t) = 𝐹(𝑡)\n",
    "\n",
    "Since there is an external force on the system, the ODE is equal to the external force and not 0\n",
    " \n",
    "\n"
   ]
  },
  {
   "cell_type": "markdown",
   "metadata": {},
   "source": [
    "Use ```dsolve``` to find a solution to this IVP below. "
   ]
  },
  {
   "cell_type": "code",
   "execution_count": 80,
   "metadata": {},
   "outputs": [
    {
     "data": {
      "text/latex": [
       "$\\displaystyle u{\\left(t \\right)} = \\frac{\\left(- \\frac{2 \\sqrt{1599} \\int f{\\left(t \\right)} e^{\\frac{t}{4}} \\sin{\\left(\\frac{\\sqrt{1599} t}{4} \\right)}\\, dt}{1599} + 0.0500156323280355 \\int\\limits^{0} f{\\left(t \\right)} e^{\\frac{t}{4}} \\sin{\\left(\\frac{\\sqrt{1599} t}{4} \\right)}\\, dt\\right) \\cos{\\left(\\frac{\\sqrt{1599} t}{4} \\right)} + \\left(\\frac{2 \\sqrt{1599} \\int f{\\left(t \\right)} e^{\\frac{t}{4}} \\cos{\\left(\\frac{\\sqrt{1599} t}{4} \\right)}\\, dt}{1599} - 0.0500156323280355 \\int\\limits^{0} f{\\left(t \\right)} e^{\\frac{t}{4}} \\cos{\\left(\\frac{\\sqrt{1599} t}{4} \\right)}\\, dt + 0.00100031264656071\\right) \\sin{\\left(\\frac{\\sqrt{1599} t}{4} \\right)}}{\\sqrt[4]{e^{t}}}$"
      ],
      "text/plain": [
       "Eq(u(t), ((-2*sqrt(1599)*Integral(f(t)*exp(t/4)*sin(sqrt(1599)*t/4), t)/1599 + 0.0500156323280355*Integral(f(t)*exp(t/4)*sin(sqrt(1599)*t/4), (t, 0)))*cos(sqrt(1599)*t/4) + (2*sqrt(1599)*Integral(f(t)*exp(t/4)*cos(sqrt(1599)*t/4), t)/1599 - 0.0500156323280355*Integral(f(t)*exp(t/4)*cos(sqrt(1599)*t/4), (t, 0)) + 0.00100031264656071)*sin(sqrt(1599)*t/4))/exp(t)**(1/4))"
      ]
     },
     "execution_count": 80,
     "metadata": {},
     "output_type": "execute_result"
    }
   ],
   "source": [
    "import numpy as np\n",
    "import matplotlib.pyplot as plt\n",
    "from sympy import *\n",
    "\n",
    "t = symbols('t')\n",
    "u = Function('u')\n",
    "f = Function('f')\n",
    "\n",
    "deq = Eq(2*diff(u(t), t, t) + diff(u(t), t) + 200*u(t), f(t))\n",
    "xsoln = dsolve(deq, u(t), ics={u(0): 0, diff(u(t), t).subs(t, 0): 0.01})\n",
    "xsoln"
   ]
  },
  {
   "cell_type": "markdown",
   "metadata": {},
   "source": [
    "Now, let the constant of proportioanlity from the damping force be $\\gamma >0$. Also, let the external force $F(t) = 0$. Write the corresponding ODE below (don't worry about initial conditions). Use complete sentences. "
   ]
  },
  {
   "cell_type": "markdown",
   "metadata": {},
   "source": [
    "--> Fd(t) = -γu′(t)  # Damping force\n",
    "--> γ > 0   # constant of proportionality\n",
    "\n",
    "\n",
    "𝐹(𝑡) = 2u''(t) = 20 - + γu'(t) + 200u(t) = 0\n",
    "\n",
    "--> The constant of proportionality has now become a part of the ODE for the external force since we are now including a constant that is greater than 0 we can not just assume it to =1 and must now incluide it as its own variable.\n",
    "\n",
    "2u''(t) + γu'(t) + 200u(t) = 0 "
   ]
  },
  {
   "cell_type": "markdown",
   "metadata": {},
   "source": [
    "There is a specific value of $\\gamma$ at which a qualitative change in the nature of the solutions happens. Find this value of $\\gamma$ and call it $\\gamma_{c}$ (the $c$ is for \"critical\"). Write (in complete sentences) your answer below. Be sure to explain why this is the critical value (e.g. you can just put your derivation of this value). "
   ]
  },
  {
   "cell_type": "markdown",
   "metadata": {},
   "source": [
    "> The nature of the solution changes as γ passes through the value 2(km)**(1/2) The motion with γ = 2(km)**(1/2) is critically damped\n",
    "𝛾𝑐 = 2*((km)**(0.5)) # This is the critically damped formula\n",
    "𝛾𝑐 = 2*(((200)(2)))**(0.5)) # Substitute in the given initial values from above for k and m\n",
    "𝛾𝑐 = 40  # solve for critically damped variable\n",
    "\n",
    "\n",
    "\n"
   ]
  },
  {
   "cell_type": "markdown",
   "metadata": {},
   "source": [
    "For a value of $\\gamma < \\gamma_c$ solve the IVP using ```dsolve```. "
   ]
  },
  {
   "cell_type": "code",
   "execution_count": 81,
   "metadata": {},
   "outputs": [
    {
     "name": "stdout",
     "output_type": "stream",
     "text": [
      "                              ⎛5⋅√7⋅t⎞\n",
      "       0.00151185789203691⋅sin⎜──────⎟\n",
      "                              ⎝  2   ⎠\n",
      "u(t) = ───────────────────────────────\n",
      "                       15/2           \n",
      "                   ⎛ t⎞               \n",
      "                   ⎝ℯ ⎠               \n"
     ]
    }
   ],
   "source": [
    "import numpy as np\n",
    "import matplotlib.pyplot as plt\n",
    "from sympy import *\n",
    "\n",
    "t = symbols('t')\n",
    "u = Function('u')\n",
    "\n",
    "deq = Eq(2*diff(u(t), t, t) + 30*diff(u(t), t) + 200*u(t))\n",
    "xsoln = dsolve(deq, u(t), ics={u(0): 0, diff(u(t), t).subs(t, 0): 0.01})\n",
    "pprint(xsoln)"
   ]
  },
  {
   "cell_type": "markdown",
   "metadata": {},
   "source": [
    "For $\\gamma = \\gamma_c$ solve he IVP using ```dsolve```. "
   ]
  },
  {
   "cell_type": "code",
   "execution_count": 82,
   "metadata": {},
   "outputs": [
    {
     "name": "stdout",
     "output_type": "stream",
     "text": [
      "               -10⋅t\n",
      "u(t) = 0.01⋅t⋅ℯ     \n"
     ]
    }
   ],
   "source": [
    "import numpy as np\n",
    "import matplotlib.pyplot as plt\n",
    "from sympy import *\n",
    "\n",
    "t = symbols('t')\n",
    "u = Function('u')\n",
    "\n",
    "deq = Eq(2*diff(u(t), t, t) + 40*diff(u(t), t) + 200*u(t))\n",
    "xsoln = dsolve(deq, u(t), ics={u(0): 0 , diff(u(t), t).subs(t, 0): 0.01})\n",
    "pprint(xsoln)"
   ]
  },
  {
   "cell_type": "markdown",
   "metadata": {},
   "source": [
    "For a value of $\\gamma>\\gamma_c$ solve the IVP using ```dsolve```."
   ]
  },
  {
   "cell_type": "code",
   "execution_count": 83,
   "metadata": {},
   "outputs": [
    {
     "name": "stdout",
     "output_type": "stream",
     "text": [
      "       ⎛                                             -15⋅t⎞  -5⋅t\n",
      "u(t) = ⎝0.000666666666666667 - 0.000666666666666667⋅ℯ     ⎠⋅ℯ    \n"
     ]
    }
   ],
   "source": [
    "import numpy as np\n",
    "import matplotlib.pyplot as plt\n",
    "from sympy import *\n",
    "\n",
    "t = symbols('t')\n",
    "u = Function('u')\n",
    "\n",
    "deq = Eq(2*diff(u(t), t, t) + 50*diff(u(t), t) + 200*u(t))\n",
    "xsoln = dsolve(deq, u(t), ics={u(0): 0, diff(u(t), t).subs(t, 0): 0.01})\n",
    "pprint(xsoln)"
   ]
  },
  {
   "cell_type": "markdown",
   "metadata": {},
   "source": [
    "# Grading. \n",
    "This project is worth a total of 50 points. There are 18 \"blanks\" above. Each one is worth 2.5 points. You get 5 points just for turning it in (I know: I'm great.)  \n",
    "\n",
    "For the cells requiring a short answer (i.e. not the coding cells) your work will be assessed using the following rubric \n",
    "- Is your answer written in complete sentences in the correct location? (.5 pt)\n",
    "- Does your response answer the question? (2 pts)\n",
    "\n",
    "For the other questions, you will be graded on: \n",
    "- Does your code produce output? And is the output there? (.5pt)\n",
    "- Is your output correct? (2 pts)\n",
    "\n",
    "# Deliverable \n",
    "You will export this file as a .html file, print that as a pdf and turn it in via Gradescope. "
   ]
  },
  {
   "cell_type": "code",
   "execution_count": null,
   "metadata": {},
   "outputs": [],
   "source": []
  }
 ],
 "metadata": {
  "kernelspec": {
   "display_name": "Python 3 (ipykernel)",
   "language": "python",
   "name": "python3"
  },
  "language_info": {
   "codemirror_mode": {
    "name": "ipython",
    "version": 3
   },
   "file_extension": ".py",
   "mimetype": "text/x-python",
   "name": "python",
   "nbconvert_exporter": "python",
   "pygments_lexer": "ipython3",
   "version": "3.9.12"
  }
 },
 "nbformat": 4,
 "nbformat_minor": 4
}
